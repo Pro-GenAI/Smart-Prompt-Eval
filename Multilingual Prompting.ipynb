{
 "cells": [
  {
   "cell_type": "markdown",
   "metadata": {},
   "source": [
    "Multilingual Prompting\n",
    "\n",
    "https://github.com/Pro-GenAI/Power-of-Roles"
   ]
  },
  {
   "cell_type": "code",
   "execution_count": null,
   "metadata": {},
   "outputs": [
    {
     "name": "stdout",
     "output_type": "stream",
     "text": [
      "Model: gpt-3.5-turbo-1106\n"
     ]
    }
   ],
   "source": [
    "from utils import print_progress, get_response, user_message, bot_message\n",
    "\n",
    "def get_accuracy(question, correct_answer):\n",
    "\ttotal_attempts = 10\n",
    "\tcorrect_attempts = 0\n",
    "\tfor i in range(total_attempts):\n",
    "\t\tresponse = get_response(question)\n",
    "\t\tresponse = extract_data(response, forced=True)\n",
    "\t\tprint_progress(response)\n",
    "\t\tif response == correct_answer:\n",
    "\t\t\tprint_progress()\n",
    "\t\t\tcorrect_attempts += 1\n",
    "\t\telse:\n",
    "\t\t\tprint_error()\n",
    "\taccuracy = (100 * correct_attempts) / total_attempts\n",
    "\taccuracy = f'{accuracy:.2f}%'\n",
    "\tprint()\n",
    "\treturn accuracy\n",
    "\n",
    "def write_to_file(text, filename='output.txt'):\n",
    "\tprint(text)\n",
    "\twith open(filename, 'a') as f:\n",
    "\t\tf.write(text + '\\n')\n",
    "\n",
    "def attempt_question(language, correct_answer, question):\n",
    "\taccuracy = get_accuracy(question, correct_answer)\n",
    "\twrite_to_file(language + ': ' + accuracy)\n",
    "\n",
    "write_to_file('Model: ' + model)"
   ]
  },
  {
   "cell_type": "code",
   "execution_count": 2,
   "metadata": {},
   "outputs": [
    {
     "name": "stdout",
     "output_type": "stream",
     "text": [
      "--------------------------------------------------\n",
      "\ttwo_cube: 8\n",
      "8.8.8.8.8.8.8.8.8.8.\n",
      "English: 100.00%\n",
      "None!None!None!None!100!None!None!None!None!1000!\n",
      "Hindi: 0.00%\n",
      "None!'8'!None!8.None!8.None!8.8.None!\n",
      "Spanish: 40.00%\n",
      "8.8.8.8.None!None!8.None!8.8.\n",
      "French: 70.00%\n",
      "8.8.8.8.8.8.8.8.8.8.\n",
      "German: 100.00%\n"
     ]
    }
   ],
   "source": [
    "question_name = 'two_cube'\n",
    "correct_answer = '8'\n",
    "write_to_file('-' * 50 + '\\n\\t' + question_name + ': ' + correct_answer)\n",
    "\n",
    "attempt_question('English', correct_answer,\n",
    "\t'What is 2^3? Return the answer in backticks like `100`.')\n",
    "attempt_question('Hindi', correct_answer,\n",
    "    '2^3 क्या है? `100` जैसे बैकटिक्स में उत्तर लौटाएँ।')\n",
    "attempt_question('Spanish', correct_answer,\n",
    "    '¿Qué es 2^3? Devuelve la respuesta entre comillas simples, como `100`.')\n",
    "attempt_question('French', correct_answer,\n",
    "    'Combien vaut 2^3? Renvoie la réponse entre guillemets inversés, comme `100`.')\n",
    "attempt_question('German', correct_answer,\n",
    "    'Was ist 2^3? Geben Sie die Antwort in Backticks wie `100` zurück.')"
   ]
  },
  {
   "cell_type": "code",
   "execution_count": null,
   "metadata": {},
   "outputs": [
    {
     "name": "stdout",
     "output_type": "stream",
     "text": [
      "--------------------------------------------------\n",
      "\tmath_15: 7\n",
      "7.7.7.7.7.7.7.7.7.7.\n",
      "English: 100.00%\n",
      "None!None!7.7.100!100!None!None!None!7.\n",
      "Hindi: 30.00%\n",
      "7.7.7.7.7.7.7.'7'!7.7.\n",
      "Spanish: 90.00%\n",
      "None!-7!None!None!None!None!None!None!None!None!\n",
      "French: 0.00%\n",
      "-7!-7!-7!-7!7.-7!-7!-7!-7!-7!\n",
      "German: 10.00%\n"
     ]
    }
   ],
   "source": [
    "question_name = 'math_15'\n",
    "correct_answer = '7'\n",
    "write_to_file('-' * 50 + '\\n\\t' + question_name + ': ' + correct_answer)\n",
    "\n",
    "attempt_question('English', correct_answer,\n",
    "\t'If you subtract 23 from twice the number 15, what is the result? Provide it in backticks like `100`.')\n",
    "attempt_question('Hindi', correct_answer,\n",
    "\t'यदि आप संख्या 15 के दुगुने में से 23 घटाते हैं, तो परिणाम क्या होगा? इसे `100` जैसे बैकटिक्स में प्रदान करें।')\n",
    "attempt_question('Spanish', correct_answer,\n",
    "\t'Si le restas 23 al doble del número 15, ¿cuál es el resultado? Indícalo entre comillas simples, como `100`.')\n",
    "attempt_question('French', correct_answer,\n",
    "\t'Si vous soustrayez 23 du double du nombre 15, quel est le résultat ? Indiquez-le entre guillemets, comme `100`. ')\n",
    "attempt_question('German', correct_answer,\n",
    "\t'Wenn Sie 23 von der doppelten Zahl 15 abziehen, was ist das Ergebnis? Geben Sie es in Backticks an, z. B. `100`. ')"
   ]
  },
  {
   "cell_type": "code",
   "execution_count": 4,
   "metadata": {},
   "outputs": [
    {
     "name": "stdout",
     "output_type": "stream",
     "text": [
      "--------------------------------------------------\n",
      "\treverse_strawberry: yrrebwarts\n",
      "yrrebtwarts!yrrebwarts.yrrebwarts.yrrebwarts.yrrebwarts.yrrebtwarts!yrrebwarts.yrrebwarts.yrrebwarts.yrrebwarts.\n",
      "English: 80.00%\n",
      "None!None!None!None!None!None!None!None!example!None!\n",
      "Hindi: 0.00%\n",
      "None!None!yrrebwarts.None!None!None!yrrebwarts.None!None!yrrebwarts.\n",
      "Spanish: 30.00%\n",
      "None!None!None!None!None!None!None!None!None!None!\n",
      "French: 0.00%\n",
      "yerrbtarts!yrrebwarts.yrrebwarts.yrrebwarts.yrrebwarts.yrrebwarts.yrrebwarts.yrrebwarts.yrrebwarts.yrrebwarts.\n",
      "German: 90.00%\n"
     ]
    }
   ],
   "source": [
    "question_name = 'reverse_strawberry'\n",
    "correct_answer = 'strawberry'[::-1]\n",
    "write_to_file('-' * 50 + '\\n\\t' + question_name + ': ' + correct_answer)\n",
    "\n",
    "attempt_question('English', correct_answer,\n",
    "\t'What is the reverse of the word \"strawberry\"? Return it as a string in backticks like `example`.')\n",
    "attempt_question('Hindi', correct_answer,\n",
    "\t'\"strawberry\" शब्द का उल्टा क्या है? इसे `example` जैसे बैकटिक्स में स्ट्रिंग के रूप में लौटाएँ।')\n",
    "attempt_question('Spanish', correct_answer,\n",
    "\t'¿Cuál es el reverso de la palabra \"strawberry\"? Devuélvelo como una cadena entre comillas simples, como `example`.')\n",
    "attempt_question('French', correct_answer,\n",
    "    'Quel est l\\'inverse du mot \"strawberry\"? Renvoie-le sous forme de chaîne entre guillemets inversés comme `example`. ')\n",
    "attempt_question('German', correct_answer,\n",
    "    'Was ist die Umkehrung des Wortes \"strawberry\"? Geben Sie es als Zeichenfolge mit Backticks zurück, z. B. `example`. ')"
   ]
  },
  {
   "cell_type": "code",
   "execution_count": 5,
   "metadata": {},
   "outputs": [
    {
     "name": "stdout",
     "output_type": "stream",
     "text": [
      "--------------------------------------------------\n",
      "\tvowels_aeronautics: 6\n",
      "6.6.6.5!6.6.6.6.6.6.\n",
      "English: 90.00%\n",
      "100!100!100!100!१००!100!None!None!100!100!\n",
      "Hindi: 0.00%\n",
      "None!5!None!None!None!None!'5'!None!None!'6'!\n",
      "Spanish: 0.00%\n",
      "5!5!5!5!None!5!5!5!5!5!\n",
      "French: 0.00%\n",
      "6.6.!!6.6.6.!6.6.\n",
      "German: 70.00%\n"
     ]
    }
   ],
   "source": [
    "question_name = 'vowels_aeronautics'\n",
    "correct_answer = '6'\n",
    "write_to_file('-' * 50 + '\\n\\t' + question_name + ': ' + correct_answer)\n",
    "\n",
    "attempt_question('English', correct_answer,\n",
    "\t'How many vowels are in the word \"aeronautics\"? Finally, return a number in backticks like `100`.')\n",
    "attempt_question('Hindi', correct_answer,\n",
    "\t'\"aeronautics\" शब्द में कितने स्वर हैं? अंत में, `100` जैसे बैकटिक्स में एक संख्या लौटाएँ।')\n",
    "attempt_question('Spanish', correct_answer,\n",
    "\t'¿Cuántas vocales tiene la palabra \"aeronautics\"? Por último, devuelve un número entre comillas simples, como `100`.')\n",
    "attempt_question('French', correct_answer,\n",
    "\t'Combien de voyelles y a-t-il dans le mot \"aeronautics\" ? Enfin, renvoyez un nombre entre guillemets inversés comme `100`')\n",
    "attempt_question('German', correct_answer,\n",
    "\t'Wie viele Vokale hat das Wort \"aeronautics\"? Geben Sie abschließend eine Zahl in Backticks zurück, z. B. `100`.')"
   ]
  }
 ],
 "metadata": {
  "kernelspec": {
   "display_name": "AI_env",
   "language": "python",
   "name": "python3"
  },
  "language_info": {
   "codemirror_mode": {
    "name": "ipython",
    "version": 3
   },
   "file_extension": ".py",
   "mimetype": "text/x-python",
   "name": "python",
   "nbconvert_exporter": "python",
   "pygments_lexer": "ipython3",
   "version": "3.13.5"
  }
 },
 "nbformat": 4,
 "nbformat_minor": 2
}
